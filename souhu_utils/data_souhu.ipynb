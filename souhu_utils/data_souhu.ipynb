{
 "cells": [
  {
   "cell_type": "code",
   "execution_count": 1,
   "metadata": {},
   "outputs": [],
   "source": [
    "import os\n",
    "import sys\n",
    "BASE = '/home/wb/smp2018'\n",
    "sys.path.append(BASE)"
   ]
  },
  {
   "cell_type": "code",
   "execution_count": 2,
   "metadata": {},
   "outputs": [],
   "source": [
    "import json\n",
    "import pandas as pd\n",
    "from init.config import Config\n",
    "from pyltp import SentenceSplitter\n",
    "from pyltp import Segmentor\n",
    "from sklearn.model_selection import train_test_split"
   ]
  },
  {
   "cell_type": "code",
   "execution_count": 3,
   "metadata": {},
   "outputs": [],
   "source": [
    "LTP_DATA_DIR = '/home/wb/ltp_data_v3.4.0'  # ltp模型目录的路径\n",
    "cws_model_path = os.path.join(LTP_DATA_DIR, 'cws.model')  # 分词模型路径，模型名称为`cws.model"
   ]
  },
  {
   "cell_type": "code",
   "execution_count": 4,
   "metadata": {},
   "outputs": [],
   "source": [
    "data_base = '/home/wb/text-classification/data'\n",
    "\n",
    "src = data_base + '/News_label.txt'\n",
    "\n",
    "all_path = data_base + '/all.csv'\n",
    "\n",
    "train_path = data_base + '/train.csv'\n",
    "\n",
    "test_path = data_base + '/test.csv'"
   ]
  },
  {
   "cell_type": "code",
   "execution_count": 9,
   "metadata": {},
   "outputs": [],
   "source": [
    "def create_training_data(save_all_samples=False, save_split_sample=False):\n",
    "    lines = []\n",
    "    with open(src) as f:\n",
    "        lines = f.readlines()\n",
    "    \n",
    "    segmentor = Segmentor()  # 初始化实例\n",
    "    segmentor.load(cws_model_path)  # 加载模型\n",
    "\n",
    "    data = []\n",
    "    total = len(lines)\n",
    "    one = total // 100\n",
    "    for i, l in enumerate(lines):\n",
    "        if len(l) < 3: continue\n",
    "        label, content = l.split('\\t')\n",
    "        label = int(label)\n",
    "        content = content.strip().replace('\\t', ' ')\n",
    "        \n",
    "        content = ' '.join(segmentor.segment(content))\n",
    "        \n",
    "        js = {}\n",
    "        js['label'] = label\n",
    "        js['content'] = content\n",
    "        \n",
    "        data.append(js)\n",
    "        \n",
    "        if i % one == 0:\n",
    "            print('cut processing %s %%' % str((i * 100) // total))\n",
    "    \n",
    "    segmentor.release()  # 释放模型\n",
    "\n",
    "    data = pd.DataFrame(data)\n",
    "\n",
    "    print(\"total samples number:\", len(data))\n",
    "    \n",
    "    if save_all_samples:\n",
    "        data.fillna(\"\", inplace=True)\n",
    "        data.to_csv(all_path, index=False, sep='\\t')\n",
    "        \n",
    "    train, val = train_test_split(data, test_size=0.1, shuffle=True, random_state=1)\n",
    "    print(\"train samples number:\", len(train))\n",
    "    print(\"vali samples number:\", len(val))\n",
    "    if save_split_sample:\n",
    "        train.to_csv(train_path, index=False, sep='\\t')\n",
    "        val.to_csv(test_path, index=False, sep='\\t')\n",
    "    return train, val"
   ]
  },
  {
   "cell_type": "code",
   "execution_count": 25,
   "metadata": {},
   "outputs": [],
   "source": [
    "def get_train_split_data():\n",
    "    train = pd.read_csv(train_path, sep='\\t')\n",
    "    test = pd.read_csv(test_path, sep='\\t')\n",
    "    return train, test"
   ]
  },
  {
   "cell_type": "markdown",
   "metadata": {},
   "source": [
    "- total samples number: 48,480\n",
    "- train samples number: 43,632\n",
    "- vali samples number: 4,848"
   ]
  },
  {
   "cell_type": "code",
   "execution_count": 19,
   "metadata": {},
   "outputs": [],
   "source": [
    "# train, val = create_training_data(True, True)"
   ]
  },
  {
   "cell_type": "code",
   "execution_count": 20,
   "metadata": {},
   "outputs": [],
   "source": [
    "def get_train_all_data():\n",
    "    train_all_data = pd.read_csv(all_path, sep='\\t')\n",
    "    return train_all_data"
   ]
  },
  {
   "cell_type": "code",
   "execution_count": 23,
   "metadata": {},
   "outputs": [],
   "source": [
    "# all_df = get_train_all_data()"
   ]
  },
  {
   "cell_type": "code",
   "execution_count": 24,
   "metadata": {},
   "outputs": [],
   "source": [
    "# all_df"
   ]
  },
  {
   "cell_type": "code",
   "execution_count": 28,
   "metadata": {},
   "outputs": [],
   "source": [
    "# train, test = get_train_split_data()"
   ]
  },
  {
   "cell_type": "code",
   "execution_count": 29,
   "metadata": {},
   "outputs": [],
   "source": [
    "# train"
   ]
  },
  {
   "cell_type": "code",
   "execution_count": null,
   "metadata": {},
   "outputs": [],
   "source": []
  }
 ],
 "metadata": {
  "kernelspec": {
   "display_name": "Python 3",
   "language": "python",
   "name": "python3"
  },
  "language_info": {
   "codemirror_mode": {
    "name": "ipython",
    "version": 3
   },
   "file_extension": ".py",
   "mimetype": "text/x-python",
   "name": "python",
   "nbconvert_exporter": "python",
   "pygments_lexer": "ipython3",
   "version": "3.6.5"
  }
 },
 "nbformat": 4,
 "nbformat_minor": 2
}
