{
 "cells": [
  {
   "cell_type": "code",
   "execution_count": 1,
   "metadata": {},
   "outputs": [],
   "source": [
    "import os\n",
    "import sys\n",
    "BASE = '/home/wb/smp2018'\n",
    "sys.path.append(BASE)"
   ]
  },
  {
   "cell_type": "code",
   "execution_count": 2,
   "metadata": {},
   "outputs": [],
   "source": [
    "import json\n",
    "import pandas as pd\n",
    "from init.config import Config\n",
    "from pyltp import SentenceSplitter\n",
    "from pyltp import Segmentor\n",
    "from sklearn.model_selection import train_test_split"
   ]
  },
  {
   "cell_type": "code",
   "execution_count": 3,
   "metadata": {},
   "outputs": [],
   "source": [
    "cfg = Config()"
   ]
  },
  {
   "cell_type": "code",
   "execution_count": 4,
   "metadata": {},
   "outputs": [],
   "source": [
    "label_dict = {\"自动摘要\": 0, \"机器翻译\": 1, \"机器作者\": 2, \"人类作者\": 3}"
   ]
  },
  {
   "cell_type": "code",
   "execution_count": 5,
   "metadata": {},
   "outputs": [],
   "source": [
    "LTP_DATA_DIR = '/home/wb/ltp_data_v3.4.0'  # ltp模型目录的路径\n",
    "cws_model_path = os.path.join(LTP_DATA_DIR, 'cws.model')  # 分词模型路径，模型名称为`cws.model"
   ]
  },
  {
   "cell_type": "code",
   "execution_count": 6,
   "metadata": {},
   "outputs": [],
   "source": [
    "def create_training_data(save_all_samples=False, save_split_sample=False):\n",
    "    lines = []\n",
    "    with open(cfg.train_raw_org_path) as f:\n",
    "        lines = f.readlines()\n",
    "    \n",
    "    segmentor = Segmentor()  # 初始化实例\n",
    "    segmentor.load(cws_model_path)  # 加载模型\n",
    "\n",
    "    data = []\n",
    "    total = len(lines)\n",
    "    one = total // 100\n",
    "    for i, l in enumerate(lines):\n",
    "        js = json.loads(l)\n",
    "        sen = js['内容'].replace('\\r', '').replace('\\t', '')\n",
    "        sen = ' '.join(segmentor.segment(sen))\n",
    "        js['内容'] = sen\n",
    "        data.append(js)\n",
    "        \n",
    "        if i % one == 0:\n",
    "            print('cut processing %s %%' % str((i * 100) // total))\n",
    "    \n",
    "    segmentor.release()  # 释放模型\n",
    "\n",
    "    data = pd.DataFrame(data)\n",
    "\n",
    "    data.rename(columns={'内容': 'content', '标签': 'label'}, inplace=True)\n",
    "\n",
    "    data['label'] = data['label'].map(label_dict)\n",
    "\n",
    "    print(\"total samples number:\", len(data))\n",
    "    \n",
    "    if save_all_samples:\n",
    "        data.fillna(\"\", inplace=True)\n",
    "        data.to_csv(cfg.train_all_data_path, index=False, sep='\\t')\n",
    "        \n",
    "    train, val = train_test_split(data, test_size=0.1, shuffle=True, random_state=1)\n",
    "    print(\"train samples number:\", len(train))\n",
    "    print(\"vali samples number:\", len(val))\n",
    "    if save_split_sample:\n",
    "        train.to_csv(cfg.train_data_path, index=False, sep='\\t')\n",
    "        val.to_csv(cfg.test_data_path, index=False, sep='\\t')\n",
    "    return train, val"
   ]
  },
  {
   "cell_type": "markdown",
   "metadata": {},
   "source": [
    "- total samples number: 146,341\n",
    "- train samples number: 131,706\n",
    "- vali samples number: 14,635"
   ]
  },
  {
   "cell_type": "code",
   "execution_count": 7,
   "metadata": {},
   "outputs": [],
   "source": [
    "def get_train_split_data():\n",
    "    train = pd.read_csv(cfg.train_data_path, sep='\\t')\n",
    "    test = pd.read_csv(cfg.test_data_path, sep='\\t')\n",
    "    return train, test"
   ]
  },
  {
   "cell_type": "code",
   "execution_count": 8,
   "metadata": {},
   "outputs": [],
   "source": [
    "# train, val = create_training_data(True, True)"
   ]
  },
  {
   "cell_type": "code",
   "execution_count": 9,
   "metadata": {},
   "outputs": [],
   "source": [
    "def create_validation_data(save_samples=False):\n",
    "    lines = []\n",
    "    with open(cfg.val_raw_org_path) as f:\n",
    "        lines = f.readlines()\n",
    "        \n",
    "    segmentor = Segmentor()  # 初始化实例\n",
    "    segmentor.load(cws_model_path)  # 加载模型\n",
    "\n",
    "    data = []\n",
    "    total = len(lines)\n",
    "    one = total // 100\n",
    "    for i, l in enumerate(lines):\n",
    "        js = json.loads(l)\n",
    "        sen = js['内容'].replace('\\r', '').replace('\\t', '')\n",
    "        sen = ' '.join(segmentor.segment(sen))\n",
    "        js['内容'] = sen\n",
    "        data.append(js)\n",
    "        \n",
    "        if i % one == 0:\n",
    "            print('cut processing %s %%' % str((i * 100) // total))\n",
    "    \n",
    "    segmentor.release()  # 释放模型\n",
    "    \n",
    "    data = pd.DataFrame(data)\n",
    "    data.rename(columns={'内容': 'content'}, inplace=True)\n",
    "\n",
    "    print(\"total samples number of validation:\", len(data))\n",
    "    \n",
    "    if save_samples:\n",
    "        data.fillna(\"\", inplace=True)\n",
    "        data.to_csv(cfg.vali_data_path, index=False, sep='\\t')"
   ]
  },
  {
   "cell_type": "markdown",
   "metadata": {},
   "source": [
    "- total samples number of validation: 58537"
   ]
  },
  {
   "cell_type": "code",
   "execution_count": 10,
   "metadata": {},
   "outputs": [],
   "source": [
    "# create_validation_data(True)"
   ]
  },
  {
   "cell_type": "code",
   "execution_count": 11,
   "metadata": {},
   "outputs": [],
   "source": [
    "def get_train_all_data():\n",
    "    train_all_data = pd.read_csv(cfg.train_all_data_path, sep='\\t')\n",
    "    return train_all_data"
   ]
  },
  {
   "cell_type": "code",
   "execution_count": 12,
   "metadata": {},
   "outputs": [],
   "source": [
    "# get_train_all_data()"
   ]
  },
  {
   "cell_type": "code",
   "execution_count": 13,
   "metadata": {},
   "outputs": [],
   "source": [
    "def get_validation_data():\n",
    "    vali = pd.read_csv(cfg.vali_data_path, sep='\\t')\n",
    "    return vali"
   ]
  },
  {
   "cell_type": "code",
   "execution_count": 14,
   "metadata": {},
   "outputs": [],
   "source": [
    "# df = get_validation_data()"
   ]
  },
  {
   "cell_type": "code",
   "execution_count": 15,
   "metadata": {},
   "outputs": [],
   "source": [
    "# train, test = get_train_split_data()"
   ]
  },
  {
   "cell_type": "code",
   "execution_count": null,
   "metadata": {},
   "outputs": [],
   "source": []
  },
  {
   "cell_type": "code",
   "execution_count": null,
   "metadata": {},
   "outputs": [],
   "source": []
  }
 ],
 "metadata": {
  "kernelspec": {
   "display_name": "Python 3",
   "language": "python",
   "name": "python3"
  },
  "language_info": {
   "codemirror_mode": {
    "name": "ipython",
    "version": 3
   },
   "file_extension": ".py",
   "mimetype": "text/x-python",
   "name": "python",
   "nbconvert_exporter": "python",
   "pygments_lexer": "ipython3",
   "version": "3.6.5"
  }
 },
 "nbformat": 4,
 "nbformat_minor": 2
}
