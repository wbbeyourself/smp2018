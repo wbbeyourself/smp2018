{
 "cells": [
  {
   "cell_type": "code",
   "execution_count": 1,
   "metadata": {},
   "outputs": [],
   "source": [
    "# -*- coding: utf-8 -*-"
   ]
  },
  {
   "cell_type": "code",
   "execution_count": 2,
   "metadata": {},
   "outputs": [],
   "source": [
    "import sys\n",
    "BASE = '/home/wb/smp2018'\n",
    "sys.path.append(BASE)"
   ]
  },
  {
   "cell_type": "code",
   "execution_count": 3,
   "metadata": {},
   "outputs": [],
   "source": [
    "import os\n",
    "from pyltp import SentenceSplitter\n",
    "from pyltp import Segmentor\n",
    "from init.config import Config"
   ]
  },
  {
   "cell_type": "code",
   "execution_count": 4,
   "metadata": {},
   "outputs": [],
   "source": [
    "cfg = Config()"
   ]
  },
  {
   "cell_type": "markdown",
   "metadata": {},
   "source": [
    "# 分句"
   ]
  },
  {
   "cell_type": "code",
   "execution_count": 5,
   "metadata": {},
   "outputs": [
    {
     "name": "stdout",
     "output_type": "stream",
     "text": [
      "元芳你怎么看？\n",
      "我就趴窗口上看呗！\n"
     ]
    }
   ],
   "source": [
    "sents = SentenceSplitter.split('元芳你怎么看？我就趴窗口上看呗！')  # 分句\n",
    "print('\\n'.join(sents))"
   ]
  },
  {
   "cell_type": "markdown",
   "metadata": {},
   "source": [
    "# 分词"
   ]
  },
  {
   "cell_type": "code",
   "execution_count": 6,
   "metadata": {},
   "outputs": [],
   "source": [
    "LTP_DATA_DIR = '/home/wb/ltp_data_v3.4.0'  # ltp模型目录的路径\n",
    "cws_model_path = os.path.join(LTP_DATA_DIR, 'cws.model')  # 分词模型路径，模型名称为`cws.model"
   ]
  },
  {
   "cell_type": "code",
   "execution_count": 7,
   "metadata": {},
   "outputs": [],
   "source": [
    "segmentor = Segmentor()  # 初始化实例\n",
    "segmentor.load(cws_model_path)  # 加载模型"
   ]
  },
  {
   "cell_type": "code",
   "execution_count": 8,
   "metadata": {},
   "outputs": [],
   "source": [
    "def cut(src_csv, dst_csv):\n",
    "    with open(src_csv,) as f:\n",
    "        lines = f.readlines()\n",
    "\n",
    "    lines_new = [lines[0]]\n",
    "\n",
    "    total = len(lines)\n",
    "    one = total // 100\n",
    "\n",
    "    for i, l in enumerate(lines[1:]):\n",
    "        items = l.split('\\t')\n",
    "        if len(items) < 2:\n",
    "            continue\n",
    "        \n",
    "        # assert len(items) >= 2, 'exception in line %s, content : %s' % (str(i), l)\n",
    "        \n",
    "        items[1] = ' '.join(segmentor.segment(items[1]))\n",
    "        sen = '\\t'.join(items)\n",
    "        if not sen[-1] == '\\n':\n",
    "            sen += '\\n'\n",
    "        lines_new.append(sen)\n",
    "        if i % one == 0:\n",
    "            print('cut processing %s %%' % str((i * 100) // total))\n",
    "            \n",
    "    with open(dst_csv, 'w') as f:\n",
    "        f.writelines(lines_new)\n",
    "\n",
    "    segmentor.release()  # 释放模型"
   ]
  },
  {
   "cell_type": "code",
   "execution_count": 9,
   "metadata": {
    "scrolled": true
   },
   "outputs": [],
   "source": [
    "# cut(cfg.src, cfg.dst)"
   ]
  },
  {
   "cell_type": "code",
   "execution_count": 12,
   "metadata": {},
   "outputs": [],
   "source": [
    "# cut(cfg.vali_data_path, cfg.vali_cut_path)"
   ]
  },
  {
   "cell_type": "code",
   "execution_count": null,
   "metadata": {},
   "outputs": [],
   "source": []
  }
 ],
 "metadata": {
  "kernelspec": {
   "display_name": "Python 3",
   "language": "python",
   "name": "python3"
  },
  "language_info": {
   "codemirror_mode": {
    "name": "ipython",
    "version": 3
   },
   "file_extension": ".py",
   "mimetype": "text/x-python",
   "name": "python",
   "nbconvert_exporter": "python",
   "pygments_lexer": "ipython3",
   "version": "3.6.5"
  }
 },
 "nbformat": 4,
 "nbformat_minor": 2
}
