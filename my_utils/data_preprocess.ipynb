{
 "cells": [
  {
   "cell_type": "code",
   "execution_count": 1,
   "metadata": {},
   "outputs": [],
   "source": [
    "import sys\n",
    "BASE = '/home/wb/smp2018'\n",
    "sys.path.append(BASE)"
   ]
  },
  {
   "cell_type": "code",
   "execution_count": 2,
   "metadata": {},
   "outputs": [
    {
     "name": "stderr",
     "output_type": "stream",
     "text": [
      "Using TensorFlow backend.\n"
     ]
    }
   ],
   "source": [
    "import re\n",
    "import pickle\n",
    "from data import *\n",
    "import numpy as np\n",
    "from init.config import Config\n",
    "from keras.preprocessing import sequence\n",
    "from pyltp import SentenceSplitter"
   ]
  },
  {
   "cell_type": "code",
   "execution_count": 3,
   "metadata": {},
   "outputs": [],
   "source": [
    "cfg = Config()"
   ]
  },
  {
   "cell_type": "code",
   "execution_count": 4,
   "metadata": {},
   "outputs": [],
   "source": [
    "word_vocab = pickle.load(open(cfg.word_vocab_path, 'rb'))\n",
    "char_vocab = pickle.load(open(cfg.char_vocab_path, 'rb'))"
   ]
  },
  {
   "cell_type": "code",
   "execution_count": 5,
   "metadata": {},
   "outputs": [],
   "source": [
    "def convert_num(word):\n",
    "    pattern = re.compile('[0-9]+')\n",
    "    match = pattern.findall(word)\n",
    "    if match:\n",
    "        return True\n",
    "    else:\n",
    "        return False"
   ]
  },
  {
   "cell_type": "code",
   "execution_count": 6,
   "metadata": {},
   "outputs": [],
   "source": [
    "def word_han_preprocess(contents, sentence_num=cfg.sentence_num, sentence_length=cfg.sentence_word_length, keep=False):\n",
    "    contents_seq = np.zeros(shape=(len(contents), sentence_num, sentence_length))\n",
    "    \n",
    "    total = len(contents)\n",
    "    one = total // 100\n",
    "    \n",
    "    for index, content in enumerate(contents):\n",
    "        sentences = SentenceSplitter.split(content)\n",
    "        word_seq = get_word_seq(sentences, word_maxlen=sentence_length)\n",
    "        word_seq = word_seq[:sentence_num]\n",
    "        contents_seq[index][:len(word_seq)] = word_seq\n",
    "        \n",
    "        if index % one == 0:\n",
    "            print('word_han_preprocess %s %%' % str((index * 100) // total))\n",
    "            \n",
    "    return contents_seq"
   ]
  },
  {
   "cell_type": "code",
   "execution_count": 7,
   "metadata": {},
   "outputs": [],
   "source": [
    "def get_word_seq(contents, word_maxlen=cfg.word_seq_maxlen, mode=\"post\", keep=False, verbost=False):\n",
    "    unknow_index =len(word_vocab)\n",
    "    word_r = []\n",
    "    for content in contents:\n",
    "        word_c = []\n",
    "        content = content.lower().strip()\n",
    "        words = content.split(\" \")\n",
    "        for word in words:\n",
    "            if convert_num(word):\n",
    "                word = 'NUM'\n",
    "            if word in word_vocab:\n",
    "                index = word_vocab[word]\n",
    "            else:\n",
    "                index = unknow_index\n",
    "            word_c.append(index)\n",
    "        word_c = np.array(word_c)\n",
    "        word_r.append(word_c)\n",
    "    word_seq = sequence.pad_sequences(word_r, maxlen=word_maxlen, padding=mode, truncating=mode, value=0)\n",
    "    return word_seq"
   ]
  },
  {
   "cell_type": "code",
   "execution_count": 8,
   "metadata": {},
   "outputs": [],
   "source": [
    "def get_char_seq(contents, char_maxlen=cfg.char_seq_maxlen, mode='post', keep=False, verbost=False):\n",
    "    unknow_index = len(char_vocab)\n",
    "    char_r = []\n",
    "    for content in contents:\n",
    "        char_c = []\n",
    "        content = content.lower().strip()\n",
    "        content = content.replace(\" \", \"\")\n",
    "        chars_line = \" \".join(content)\n",
    "        chars = chars_line.split(\" \")\n",
    "        for char in chars:\n",
    "            if convert_num(char):\n",
    "                char = 'NUM'\n",
    "            if char in char_vocab:\n",
    "                index = char_vocab[char]\n",
    "            else:\n",
    "                index = unknow_index\n",
    "            char_c.append(index)\n",
    "        char_c = np.array(char_c)\n",
    "        char_r.append(char_c)\n",
    "    char_seq = sequence.pad_sequences(char_r, maxlen=char_maxlen, padding=mode, truncating=mode, value=0)\n",
    "    return char_seq"
   ]
  },
  {
   "cell_type": "code",
   "execution_count": 9,
   "metadata": {},
   "outputs": [],
   "source": [
    "def to_categorical(labels):\n",
    "    y = []\n",
    "    for label in labels:\n",
    "        y_line = [0, 0, 0, 0]\n",
    "        assert label < 4, 'label is %s' % label\n",
    "        y_line[label] = 1\n",
    "        y.append(y_line)\n",
    "    y = np.array(y)\n",
    "    return y"
   ]
  },
  {
   "cell_type": "code",
   "execution_count": 10,
   "metadata": {},
   "outputs": [],
   "source": [
    "# 得到一个tuple组成的list\n",
    "def make_batches(size, batch_size):\n",
    "    nb_batch = int(np.ceil(size / float(batch_size)))\n",
    "    return [(i * batch_size, min(size, (i + 1) * batch_size)) for i in range(0, nb_batch)]"
   ]
  },
  {
   "cell_type": "code",
   "execution_count": 11,
   "metadata": {},
   "outputs": [],
   "source": [
    "def batch_generator(contents, labels, batch_size=128, shuffle=True, keep=False, preprocessfunc=None):\n",
    "\n",
    "    assert preprocessfunc != None\n",
    "    sample_size = contents.shape[0]\n",
    "    index_array = np.arange(sample_size)\n",
    "\n",
    "    while 1:\n",
    "        if shuffle:\n",
    "            np.random.shuffle(index_array)\n",
    "        batches = make_batches(sample_size, batch_size)\n",
    "        for batch_index, (batch_start, batch_end) in enumerate(batches):\n",
    "            batch_ids = index_array[batch_start: batch_end]\n",
    "            batch_contents = contents[batch_ids]\n",
    "            batch_contents = preprocessfunc(batch_contents, keep=keep)\n",
    "            batch_labels = to_categorical(labels[batch_ids])\n",
    "            yield (batch_contents, batch_labels)"
   ]
  },
  {
   "cell_type": "code",
   "execution_count": 12,
   "metadata": {},
   "outputs": [],
   "source": [
    "def word_cnn_preprocess(contents, word_maxlen=cfg.word_seq_maxlen, keep=False):\n",
    "    word_seq = get_word_seq(contents, word_maxlen=word_maxlen, keep=keep)\n",
    "    return word_seq"
   ]
  },
  {
   "cell_type": "code",
   "execution_count": 13,
   "metadata": {},
   "outputs": [],
   "source": [
    "def word_cnn_train_batch_generator(train_content, train_label, batch_size=128, keep=False):\n",
    "    return batch_generator(contents=train_content, labels=train_label,batch_size=batch_size, keep=keep, preprocessfunc=word_cnn_preprocess)"
   ]
  },
  {
   "cell_type": "code",
   "execution_count": 14,
   "metadata": {},
   "outputs": [],
   "source": [
    "def char_cnn_train_batch_generator(train_content, train_label, batch_size=128, keep=False):\n",
    "    return batch_generator(contents=train_content, labels=train_label, batch_size=batch_size, keep=keep, preprocessfunc=char_cnn_preprocess)"
   ]
  },
  {
   "cell_type": "code",
   "execution_count": 15,
   "metadata": {},
   "outputs": [],
   "source": [
    "def char_cnn_preprocess(contents, maxlen=cfg.char_seq_maxlen, keep=False):\n",
    "    char_seq = get_char_seq(contents, char_maxlen=maxlen, keep=keep)\n",
    "    return char_seq"
   ]
  },
  {
   "cell_type": "code",
   "execution_count": 16,
   "metadata": {},
   "outputs": [],
   "source": [
    "def word_han_train_batch_generator(train_content, train_label, batch_size=128, keep=False):\n",
    "    return batch_generator(contents=train_content, labels=train_label, batch_size=batch_size, keep=keep,\n",
    "                           preprocessfunc=word_han_preprocess)"
   ]
  },
  {
   "cell_type": "code",
   "execution_count": 17,
   "metadata": {},
   "outputs": [],
   "source": [
    "def word_char_cnn_train_batch_generator(train_content, train_label, batch_size=128, keep=False):\n",
    "    return batch_generator(contents=train_content, labels=train_label, batch_size=batch_size, keep=keep,\n",
    "                           preprocessfunc=word_char_cnn_preprocess)"
   ]
  },
  {
   "cell_type": "code",
   "execution_count": 18,
   "metadata": {},
   "outputs": [],
   "source": [
    "def word_char_cnn_preprocess(contents, word_maxlen=cfg.word_seq_maxlen, char_maxlen=cfg.char_seq_maxlen,\n",
    "                             keep=False):\n",
    "    word_seq = get_word_seq(contents, word_maxlen=word_maxlen, keep=keep)\n",
    "    char_seq = get_char_seq(contents, char_maxlen=char_maxlen, keep=keep)\n",
    "    return [word_seq, char_seq]"
   ]
  }
 ],
 "metadata": {
  "kernelspec": {
   "display_name": "Python 3",
   "language": "python",
   "name": "python3"
  },
  "language_info": {
   "codemirror_mode": {
    "name": "ipython",
    "version": 3
   },
   "file_extension": ".py",
   "mimetype": "text/x-python",
   "name": "python",
   "nbconvert_exporter": "python",
   "pygments_lexer": "ipython3",
   "version": "3.6.5"
  }
 },
 "nbformat": 4,
 "nbformat_minor": 2
}
